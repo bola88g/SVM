{
 "cells": [
  {
   "cell_type": "markdown",
   "metadata": {},
   "source": [
    "##### Elaboración de SVM de mi parte"
   ]
  },
  {
   "cell_type": "code",
   "execution_count": null,
   "metadata": {},
   "outputs": [],
   "source": [
    "'''df = pd.DataFrame(xi)\n",
    "df.to_csv ('puntos_aleatorios.csv', sep=',')\n",
    "#print(df)'''\n",
    "\n"
   ]
  },
  {
   "cell_type": "code",
   "execution_count": 3,
   "metadata": {},
   "outputs": [],
   "source": [
    "import numpy as np\n",
    "import numpy.random\n",
    "import pandas as pd\n",
    "import matplotlib.pyplot as plt\n",
    "import math\n",
    "#%matplotlib inline"
   ]
  },
  {
   "cell_type": "markdown",
   "metadata": {},
   "source": [
    "##### Para (x1,y1), . . . (xn,yn) puntos de entrenamiento, con yi en {-1,1}\n",
    "##### Cualquier hiperplano se puede escribir como el conjunto de puntos que satisfacen:\n",
    "                        xi∙w−b = 0, con w el vector normal al hiperplano\n",
    "##### El parámetro 𝑏/‖𝑤‖ determina el desplazamiento del hiperplano desde el origen a lo largo de w\n",
    "\n",
    "\n",
    "### MARGEN DURO\n",
    "\n",
    "##### Si los datos de entrenamiento son linealmente separables es posible seleccionar dos hiperplanos paralelos \n",
    "##### que separen las dos clases de datos, de modo que la distancia entre ellos sea lo más grande posible. \n",
    "##### Estos hiperplanos pueden describirse mediante las ecuaciones:\n",
    "\n",
    "                        xi∙w−b = 1, Ecuación del hiperplano más cerano a la clase positiva\n",
    "                        xi∙w−b = -1 Ecuación del hiperplano más cercan a la clase negativa\n",
    "\n",
    "         ∙La región delimitada por la distancia entre los hiperplanos se llama MARGEN\n",
    "         ∙El hiperplano de margen máximo se encuentra a media distancia entre ellos\n",
    "\n",
    "\n",
    " #### PROBLEMA DE OPTIMIZACIÓN:\n",
    " \n",
    " ##### Geométricamente, la distancia entre estos dos hiperplanos es 2/‖𝑤‖, MAXIMIZAR la distancia entre \n",
    " ##### los planos es equivalente a MINIMIZAR ‖𝑤‖\n",
    " \n",
    " ##### Para evitar que los puntos caigan dentro del margen se agregan las siguientes restricciones:\n",
    " \n",
    "                         xi∙w−b ≥ 1, si yi = 1\n",
    "                         xi∙w−b ≤ -1 si yi = -1\n",
    "                         \n",
    " ##### Estas restricciones establecen que cada punto de datos debe estar en el lado correcto del margen\n",
    "\n",
    " ##### Pueden integrarse en la ecuación:  yi(xi∙w−b) ≥ 1,  ∀i 1 ≤ i ≤ n\n",
    " \n",
    " ##### Es decir, MINIMIZAR ‖𝑤‖ sujeto a yi(xi∙w−b) ≥ 1,  ∀i 1 ≤ i ≤ n\n",
    "\n",
    "### MARGEN SUAVE\n",
    "\n",
    "##### Para el caso de datos no linealmente separables, se puede implementar la función costo:\n",
    "                        \n",
    "                        max (0, 1-yi(xi∙w−b))\n",
    "                        \n",
    "##### En el caso de que los datos estén bien clasificados, la función regresa 0\n",
    "##### Para los datos que estan mal clasificados, el valor de la función es proporcional a la distancia desde el margen\n",
    "##### de modo que se debe MINIMIZAR la función asociada a la suma de las distancias de los datos mal clasificados:\n",
    "                        \n",
    "                        J = [1/n ∑ max(0, 1-yi(xi∙w−b))] + 𝜆‖𝑤‖^2, ∀i 1 ≤ i ≤ n\n",
    "              \n",
    "##### donde el parámetro 𝜆 determina la compensación entre aumentar el tamaño del margen y garantizar que xi se encuentre\n",
    "##### del lado correcto del margen\n",
    "\n",
    "\n",
    "##### Nótese que minimizar esta funcion de margen suave cuando el parámetro 𝜆 es lo suficientemente pequeño, se reduce a un problema de margen duro, para datos linealmente separables.\n",
    "\n",
    "\n",
    "##### Si xi está bien clasificado, entonces:  \n",
    "                        yi(xi∙w−b) ≥ 1  --->  J = 𝜆‖𝑤‖^2\n",
    "                                        --->  ∂J/∂w = 2𝜆w   y  ∂J/∂b = 0\n",
    "\n",
    "##### Si xi está mal clasificado, entonces:\n",
    "                                              J = 1 - yi(xi∙w−b) + 𝜆‖𝑤‖^2\n",
    "                                        --->  ∂J/∂w = 2𝜆w - yi*xi   y  ∂J/∂b = yi\n",
    "\n",
    "\n",
    "##### De aquí se obtiene que el gradiente cuando \n",
    "                        "
   ]
  },
  {
   "cell_type": "code",
   "execution_count": 4,
   "metadata": {},
   "outputs": [],
   "source": [
    "def fit(X, y):\n",
    "        #where: y_ = -1, si y<=0\n",
    "        #          = 1 en otro caso\n",
    "        y_ = np.where(y <= 0, -1, 1)\n",
    "        n_samples, n_features = X.shape                \n",
    "        #Se inicializa w en ceros con el tamaño de caracterísiticas de x\n",
    "        w = np.zeros(n_features)\n",
    "        b = 0\n",
    "\n",
    "        # x∙w−b=1, hyperplano que clasifica datos con etiqueta 1\n",
    "        # x∙w−b=-1, hyperplano que clasifica datos con etiqueta -1\n",
    "        # Margen suave: f(x)=xi∙w-b, L=f(x)\n",
    "        # Si yi*f(x)>=1 --> d(L)/d(wk)=2*lambda*wk, d(Ji)/d(b)=0\n",
    "        # Si yi*f(x)<1 --> d(L)/d(wk)=(2*lambda*wk)-yi.xi, d(Ji)/d(b)=yi\n",
    "        # Se sustituyen valores para w = w-lr*d(w) y b = b-lr*d(b)\n",
    "        for _ in range(n_iters):\n",
    "            #Iteramos sobre el conjunto de entrenamiento\n",
    "            for idx, x_i in enumerate(X):\n",
    "                # Condición: yi(xi∙w−b)≥1 \n",
    "\n",
    "                condicion = y_[idx] * (np.dot(x_i, w) - b) >= 1\n",
    "                #Si se cumple la condición entonces: d(Ji)/d(wk)=2*lambda*wk, d(Ji)/d(b)=0\n",
    "                if condicion:\n",
    "                    # 1era actualización: w = w-lr*dw --> w = w-lr*(2*lambda*w) \n",
    "                    w -= lr * (2 * lambda * w)\n",
    "                #Si no se cumple la condición enotnces: d(Ji)/d(wk)=(2*lambda*wk)-yi.xi, d(Ji)/d(b)=yi\n",
    "                else:\n",
    "                    # w = w-lr*dw --> w = w-lr*(2*lambda*w - yi.xi)\n",
    "                    w -= lr * (2 * lambda * w - np.dot(x_i, y_[idx]))\n",
    "                    # b = b-lr*db --> b = b-lr*yi\n",
    "                    b -= lr * y_[idx]\n",
    "        return {\"normal\":w, \"alorig\":b}\n",
    "    "
   ]
  },
  {
   "cell_type": "code",
   "execution_count": 5,
   "metadata": {},
   "outputs": [],
   "source": [
    "obs=50 # Número de puntos por clase\n",
    "\n",
    "clase_0 = np.random.multivariate_normal([0,0], [[1.,.95],[.95,1.]], size=obs)\n",
    "clase_1 = np.random.multivariate_normal([1,5], [[1.,.85],[.85,1.]], size=obs)\n",
    "\n",
    "xi = []\n",
    "for i in range(obs):\n",
    "    xi = xi+[[clase_0[i][0]]+[clase_0[i][1]]+[1]]\n",
    "for i in range(obs):\n",
    "    xi = xi+[[clase_1[i][0]]+[clase_1[i][1]]+[-1]]\n",
    "\n",
    "xi = np.array(xi)\n",
    "xi = np.random.permutation(xi)"
   ]
  },
  {
   "cell_type": "code",
   "execution_count": 6,
   "metadata": {},
   "outputs": [
    {
     "data": {
      "text/plain": [
       "<matplotlib.collections.PathCollection at 0x2c206b99a20>"
      ]
     },
     "execution_count": 6,
     "metadata": {},
     "output_type": "execute_result"
    },
    {
     "data": {
      "image/png": "[encoded data removed]",
      "text/plain": [
       "<Figure size 432x288 with 1 Axes>"
      ]
     },
     "metadata": {
      "needs_background": "light"
     },
     "output_type": "display_data"
    }
   ],
   "source": [
    "plt.scatter(clase_0[:,0], clase_0[:,1], color='b')\n",
    "plt.scatter(clase_1[:,0], clase_1[:,1], color='g')"
   ]
  },
  {
   "cell_type": "code",
   "execution_count": 7,
   "metadata": {},
   "outputs": [],
   "source": [
    "X = xi[:,[0,1]]\n",
    "y = xi[:,2]\n",
    "\n",
    "#print(X)\n",
    "#print (y)"
   ]
  },
  {
   "cell_type": "code",
   "execution_count": 8,
   "metadata": {},
   "outputs": [
    {
     "name": "stdout",
     "output_type": "stream",
     "text": [
      "None None\n"
     ]
    }
   ],
   "source": [
    "b = None\n",
    "w = None\n",
    "n_iters = 1000\n",
    "lambda = 0.01\n",
    "lr = 0.001\n",
    "tenemos=fit(X, y)\n",
    " \n",
    "print(w, b)"
   ]
  },
  {
   "cell_type": "code",
   "execution_count": 9,
   "metadata": {},
   "outputs": [
    {
     "data": {
      "image/png": "[encoded data removed]",
      "text/plain": [
       "<Figure size 432x288 with 1 Axes>"
      ]
     },
     "metadata": {
      "needs_background": "light"
     },
     "output_type": "display_data"
    }
   ],
   "source": [
    "def visualize_svm():\n",
    "     def grafica_hiperplano(x, wx, bx, offset):\n",
    "          return (-wx[0] * x + bx + offset) / wx[1]\n",
    "\n",
    "     fig = plt.figure()\n",
    "     ax = fig.add_subplot(1,1,1)\n",
    "     plt.scatter(clase_0[:,0], clase_0[:,1], color='b')\n",
    "     plt.scatter(clase_1[:,0], clase_1[:,1], color='g')\n",
    "\n",
    "     x0_1 = np.amin(X[:,0])\n",
    "     x0_2 = np.amax(X[:,0])\n",
    "     w=tenemos[\"normal\"]\n",
    "     b=tenemos[\"alorig\"]\n",
    "        \n",
    "#Hiperplano clasificador: 𝒘∙𝒙−b = 0\n",
    "     x1_1 = grafica_hiperplano(x0_1, w, b, 0)\n",
    "     x1_2 = grafica_hiperplano(x0_2, w, b, 0)\n",
    "        \n",
    "#Hiperplano: 𝒘∙𝒙−b = -1\n",
    "     x1_1_m = grafica_hiperplano(x0_1, w, b, -1)\n",
    "     x1_2_m = grafica_hiperplano(x0_2, w, b, -1)\n",
    "        \n",
    "#Hiperplano: 𝒘∙𝒙−b = 1\n",
    "     x1_1_p = grafica_hiperplano(x0_1, w, b, 1)\n",
    "     x1_2_p = grafica_hiperplano(x0_2, w, b, 1)\n",
    "        \n",
    "#Grafica hiperplanos\n",
    "     ax.plot([x0_1, x0_2],[x1_1, x1_2], 'r--')\n",
    "     ax.plot([x0_1, x0_2],[x1_1_m, x1_2_m], 'g')\n",
    "     ax.plot([x0_1, x0_2],[x1_1_p, x1_2_p], 'b')\n",
    "\n",
    "\n",
    "     x1_min = np.amin(X[:,1])\n",
    "     x1_max = np.amax(X[:,1])\n",
    "     ax.set_ylim([x1_min-3,x1_max+3])\n",
    "\n",
    "     plt.show()\n",
    "\n",
    "visualize_svm()"
   ]
  },
  {
   "cell_type": "code",
   "execution_count": null,
   "metadata": {},
   "outputs": [],
   "source": []
  },
  {
   "cell_type": "code",
   "execution_count": null,
   "metadata": {},
   "outputs": [],
   "source": []
  },
  {
   "cell_type": "code",
   "execution_count": null,
   "metadata": {},
   "outputs": [],
   "source": []
  }
 ],
 "metadata": {
  "kernelspec": {
   "display_name": "Python 3",
   "language": "python",
   "name": "python3"
  },
  "language_info": {
   "codemirror_mode": {
    "name": "ipython",
    "version": 3
   },
   "file_extension": ".py",
   "mimetype": "text/x-python",
   "name": "python",
   "nbconvert_exporter": "python",
   "pygments_lexer": "ipython3",
   "version": "3.7.3"
  }
 },
 "nbformat": 4,
 "nbformat_minor": 4
}
